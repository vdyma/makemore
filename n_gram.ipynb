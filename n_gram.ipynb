{
 "cells": [
  {
   "cell_type": "code",
   "execution_count": 1,
   "id": "initial_id",
   "metadata": {
    "collapsed": true,
    "ExecuteTime": {
     "end_time": "2024-03-30T18:39:49.576149Z",
     "start_time": "2024-03-30T18:39:47.474117Z"
    }
   },
   "outputs": [],
   "source": [
    "from sklearn.model_selection import train_test_split\n",
    "\n",
    "import n_gram"
   ]
  },
  {
   "cell_type": "code",
   "outputs": [],
   "source": [
    "data = n_gram.load_data(test_size=0.2, train_size=0.8)"
   ],
   "metadata": {
    "collapsed": false,
    "ExecuteTime": {
     "end_time": "2024-03-30T18:39:49.602245Z",
     "start_time": "2024-03-30T18:39:49.577243Z"
    }
   },
   "id": "9aaa33bddec8f196",
   "execution_count": 2
  },
  {
   "cell_type": "code",
   "outputs": [],
   "source": [
    "data[\"dev\"], data[\"test\"] = train_test_split(data[\"test\"], test_size=0.5)"
   ],
   "metadata": {
    "collapsed": false,
    "ExecuteTime": {
     "end_time": "2024-03-30T18:39:49.617257Z",
     "start_time": "2024-03-30T18:39:49.603782Z"
    }
   },
   "id": "e1c5803214df4c6d",
   "execution_count": 3
  },
  {
   "cell_type": "markdown",
   "source": [
    "# Bigram model"
   ],
   "metadata": {
    "collapsed": false
   },
   "id": "ec745e67117b4dc8"
  },
  {
   "cell_type": "code",
   "outputs": [],
   "source": [
    "num_grams = 2"
   ],
   "metadata": {
    "collapsed": false,
    "ExecuteTime": {
     "end_time": "2024-03-30T18:39:49.633360Z",
     "start_time": "2024-03-30T18:39:49.618259Z"
    }
   },
   "id": "39ab79e77b20266d",
   "execution_count": 4
  },
  {
   "cell_type": "markdown",
   "source": [
    "## Counting"
   ],
   "metadata": {
    "collapsed": false
   },
   "id": "628736892f951f3a"
  },
  {
   "cell_type": "code",
   "outputs": [
    {
     "name": "stdout",
     "output_type": "stream",
     "text": [
      "Dev loss: \t2.4604\n",
      "Test loss: \t2.4655\n"
     ]
    }
   ],
   "source": [
    "counts = n_gram.create_count_matrix(data[\"train\"], data[\"stoi\"], num_grams=num_grams, smoothing_factor=1)\n",
    "\n",
    "print(f\"\"\"Dev loss: \\t{n_gram.calculate_counts_loss(data[\"dev\"], counts, data[\"stoi\"]):.4f}\"\"\")\n",
    "print(f\"\"\"Test loss: \\t{n_gram.calculate_counts_loss(data[\"test\"], counts, data[\"stoi\"]):.4f}\"\"\")"
   ],
   "metadata": {
    "collapsed": false,
    "ExecuteTime": {
     "end_time": "2024-03-30T18:39:52.172435Z",
     "start_time": "2024-03-30T18:39:49.633911Z"
    }
   },
   "id": "89081da01aadbe5c",
   "execution_count": 5
  },
  {
   "cell_type": "markdown",
   "source": [
    "# NN"
   ],
   "metadata": {
    "collapsed": false
   },
   "id": "6b0e9fba09b1011c"
  },
  {
   "cell_type": "code",
   "outputs": [
    {
     "name": "stdout",
     "output_type": "stream",
     "text": [
      "Dev loss: \t2.4843\n",
      "Test loss: \t2.4881\n"
     ]
    }
   ],
   "source": [
    "nn_data = dict()\n",
    "nn_data[\"train\"] = n_gram.prepare_for_nn(data[\"train\"], data[\"stoi\"], num_grams)\n",
    "nn_data[\"dev\"] = n_gram.prepare_for_nn(data[\"dev\"], data[\"stoi\"], num_grams)\n",
    "nn_data[\"test\"] = n_gram.prepare_for_nn(data[\"test\"], data[\"stoi\"], num_grams)\n",
    "\n",
    "model = n_gram.init_nn_model(len(data[\"stoi\"]), num_grams)\n",
    "\n",
    "n_gram.train_nn(nn_data[\"train\"][\"X\"], nn_data[\"train\"][\"y\"], model, verbose=False)\n",
    "\n",
    "print(f\"\"\"Dev loss: \\t{n_gram.calculate_nn_loss(nn_data[\"dev\"][\"X\"], nn_data[\"dev\"][\"y\"], model):.4f}\"\"\")\n",
    "print(f\"\"\"Test loss: \\t{n_gram.calculate_nn_loss(nn_data[\"test\"][\"X\"], nn_data[\"test\"][\"y\"], model):.4f}\"\"\")"
   ],
   "metadata": {
    "collapsed": false,
    "ExecuteTime": {
     "end_time": "2024-03-30T18:39:58.219583Z",
     "start_time": "2024-03-30T18:39:52.173920Z"
    }
   },
   "id": "303e866da12a1a5b",
   "execution_count": 6
  },
  {
   "cell_type": "markdown",
   "source": [
    "# Trigram model"
   ],
   "metadata": {
    "collapsed": false
   },
   "id": "23fc8236b20ee294"
  },
  {
   "cell_type": "code",
   "outputs": [],
   "source": [
    "num_grams = 3"
   ],
   "metadata": {
    "collapsed": false,
    "ExecuteTime": {
     "end_time": "2024-03-30T18:39:58.235050Z",
     "start_time": "2024-03-30T18:39:58.220417Z"
    }
   },
   "id": "e55c76884b7faddf",
   "execution_count": 7
  },
  {
   "cell_type": "markdown",
   "source": [
    "## Counting"
   ],
   "metadata": {
    "collapsed": false
   },
   "id": "f9d37f0edfcce611"
  },
  {
   "cell_type": "code",
   "outputs": [
    {
     "name": "stdout",
     "output_type": "stream",
     "text": [
      "Dev loss: \t2.1254\n",
      "Test loss: \t2.1279\n"
     ]
    }
   ],
   "source": [
    "counts = n_gram.create_count_matrix(data[\"train\"], data[\"stoi\"], num_grams=num_grams, smoothing_factor=1)\n",
    "\n",
    "print(f\"\"\"Dev loss: \\t{n_gram.calculate_counts_loss(data[\"dev\"], counts, data[\"stoi\"]):.4f}\"\"\")\n",
    "print(f\"\"\"Test loss: \\t{n_gram.calculate_counts_loss(data[\"test\"], counts, data[\"stoi\"]):.4f}\"\"\")"
   ],
   "metadata": {
    "collapsed": false,
    "ExecuteTime": {
     "end_time": "2024-03-30T18:40:01.176270Z",
     "start_time": "2024-03-30T18:39:58.236062Z"
    }
   },
   "id": "2b6d18e1bfd70bac",
   "execution_count": 8
  },
  {
   "cell_type": "markdown",
   "source": [
    "## NN"
   ],
   "metadata": {
    "collapsed": false
   },
   "id": "c0a101166ecccba0"
  },
  {
   "cell_type": "code",
   "outputs": [
    {
     "name": "stdout",
     "output_type": "stream",
     "text": [
      "Dev loss: \t2.2721\n",
      "Test loss: \t2.2742\n"
     ]
    }
   ],
   "source": [
    "nn_data = dict()\n",
    "nn_data[\"train\"] = n_gram.prepare_for_nn(data[\"train\"], data[\"stoi\"], num_grams)\n",
    "nn_data[\"dev\"] = n_gram.prepare_for_nn(data[\"dev\"], data[\"stoi\"], num_grams)\n",
    "nn_data[\"test\"] = n_gram.prepare_for_nn(data[\"test\"], data[\"stoi\"], num_grams)\n",
    "\n",
    "model = n_gram.init_nn_model(len(data[\"stoi\"]), num_grams)\n",
    "\n",
    "n_gram.train_nn(nn_data[\"train\"][\"X\"], nn_data[\"train\"][\"y\"], model, verbose=False)\n",
    "\n",
    "print(f\"\"\"Dev loss: \\t{n_gram.calculate_nn_loss(nn_data[\"dev\"][\"X\"], nn_data[\"dev\"][\"y\"], model):.4f}\"\"\")\n",
    "print(f\"\"\"Test loss: \\t{n_gram.calculate_nn_loss(nn_data[\"test\"][\"X\"], nn_data[\"test\"][\"y\"], model):.4f}\"\"\")"
   ],
   "metadata": {
    "collapsed": false,
    "ExecuteTime": {
     "end_time": "2024-03-30T18:40:07.443332Z",
     "start_time": "2024-03-30T18:40:01.177284Z"
    }
   },
   "id": "abfb35a11066f29c",
   "execution_count": 9
  },
  {
   "cell_type": "code",
   "outputs": [],
   "source": [],
   "metadata": {
    "collapsed": false,
    "ExecuteTime": {
     "end_time": "2024-03-30T18:40:07.458636Z",
     "start_time": "2024-03-30T18:40:07.443848Z"
    }
   },
   "id": "42a33480bd42637c",
   "execution_count": 9
  }
 ],
 "metadata": {
  "kernelspec": {
   "display_name": "Python 3",
   "language": "python",
   "name": "python3"
  },
  "language_info": {
   "codemirror_mode": {
    "name": "ipython",
    "version": 2
   },
   "file_extension": ".py",
   "mimetype": "text/x-python",
   "name": "python",
   "nbconvert_exporter": "python",
   "pygments_lexer": "ipython2",
   "version": "2.7.6"
  }
 },
 "nbformat": 4,
 "nbformat_minor": 5
}
