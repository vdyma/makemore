{
 "cells": [
  {
   "cell_type": "code",
   "execution_count": 10,
   "id": "initial_id",
   "metadata": {
    "collapsed": true,
    "ExecuteTime": {
     "end_time": "2024-03-27T12:58:25.538591Z",
     "start_time": "2024-03-27T12:58:25.531252Z"
    }
   },
   "outputs": [],
   "source": [
    "import torch\n",
    "import torch.nn.functional as F\n",
    "\n",
    "from matplotlib import pyplot as plt\n",
    "%matplotlib inline"
   ]
  },
  {
   "cell_type": "code",
   "outputs": [],
   "source": [
    "# create training set of bigrams\n",
    "special_token = \".\"\n",
    "bag = dict()\n",
    "words = open('names.txt', 'r').read().splitlines()\n",
    "chars = sorted(list(set(''.join(words))))\n",
    "stoi = dict((s, i + 1) for i, s in enumerate(chars))\n",
    "stoi[special_token] = 0\n",
    "itos = dict((i, s) for s, i in stoi.items())\n",
    "\n",
    "xs, ys = [], []\n",
    "\n",
    "for w in words[:1]:\n",
    "    chs = [special_token] + list(w) + [special_token] # adding start and end tokens\n",
    "    for ch1, ch2 in zip(chs, chs[1:]):\n",
    "        ix1 = stoi[ch1]\n",
    "        ix2 = stoi[ch2]\n",
    "        xs.append(ix1)\n",
    "        ys.append(ix2)\n",
    "\n",
    "xs = torch.tensor(xs)\n",
    "ys = torch.tensor(ys)"
   ],
   "metadata": {
    "collapsed": false,
    "ExecuteTime": {
     "end_time": "2024-03-27T12:53:57.335601Z",
     "start_time": "2024-03-27T12:53:57.310722Z"
    }
   },
   "id": "51350d0ad1969574",
   "execution_count": 6
  },
  {
   "cell_type": "code",
   "outputs": [],
   "source": [
    "g = torch.Generator().manual_seed(2147483647)\n",
    "W = torch.randn((len(stoi), len(stoi)), generator=g)"
   ],
   "metadata": {
    "collapsed": false,
    "ExecuteTime": {
     "end_time": "2024-03-27T13:31:34.280737Z",
     "start_time": "2024-03-27T13:31:34.278261Z"
    }
   },
   "id": "91639c93ee3206ef",
   "execution_count": 43
  },
  {
   "cell_type": "code",
   "outputs": [],
   "source": [
    "xenc = F.one_hot(xs, num_classes=len(stoi)).float()\n",
    "logits = xenc @ W\n",
    "# softmax\n",
    "counts = logits.exp()\n",
    "probs = counts / counts.sum(dim=1, keepdims=True)"
   ],
   "metadata": {
    "collapsed": false,
    "ExecuteTime": {
     "end_time": "2024-03-27T13:31:34.608744Z",
     "start_time": "2024-03-27T13:31:34.602891Z"
    }
   },
   "id": "9a6fdf5d4c34a24a",
   "execution_count": 44
  },
  {
   "cell_type": "code",
   "outputs": [
    {
     "data": {
      "text/plain": "torch.Size([5, 27])"
     },
     "execution_count": 45,
     "metadata": {},
     "output_type": "execute_result"
    }
   ],
   "source": [
    "probs.shape"
   ],
   "metadata": {
    "collapsed": false,
    "ExecuteTime": {
     "end_time": "2024-03-27T13:31:34.952723Z",
     "start_time": "2024-03-27T13:31:34.949640Z"
    }
   },
   "id": "2fcb48c39de8a817",
   "execution_count": 45
  },
  {
   "cell_type": "code",
   "outputs": [
    {
     "name": "stdout",
     "output_type": "stream",
     "text": [
      "----------\n",
      "example: .e (indexes 0, 5)\n",
      "Input: 0 (.)\n",
      "Output probabilities: tensor([0.0607, 0.0100, 0.0123, 0.0042, 0.0168, 0.0123, 0.0027, 0.0232, 0.0137,\n",
      "        0.0313, 0.0079, 0.0278, 0.0091, 0.0082, 0.0500, 0.2378, 0.0603, 0.0025,\n",
      "        0.0249, 0.0055, 0.0339, 0.0109, 0.0029, 0.0198, 0.0118, 0.1537, 0.1459])\n",
      "Correct label: 5 (e)\n",
      "probability of the correct label with current weights: 0.01228625513613224\n",
      "log likelihood: -4.399273872375488\n",
      "negative log likelihood: 4.399273872375488\n",
      "----------\n",
      "example: em (indexes 5, 13)\n",
      "Input: 5 (e)\n",
      "Output probabilities: tensor([0.0290, 0.0796, 0.0248, 0.0521, 0.1989, 0.0289, 0.0094, 0.0335, 0.0097,\n",
      "        0.0301, 0.0702, 0.0228, 0.0115, 0.0181, 0.0108, 0.0315, 0.0291, 0.0045,\n",
      "        0.0916, 0.0215, 0.0486, 0.0300, 0.0501, 0.0027, 0.0118, 0.0022, 0.0472])\n",
      "Correct label: 13 (m)\n",
      "probability of the correct label with current weights: 0.018050700426101685\n",
      "log likelihood: -4.014570713043213\n",
      "negative log likelihood: 4.014570713043213\n",
      "----------\n",
      "example: mm (indexes 13, 13)\n",
      "Input: 13 (m)\n",
      "Output probabilities: tensor([0.0312, 0.0737, 0.0484, 0.0333, 0.0674, 0.0200, 0.0263, 0.0249, 0.1226,\n",
      "        0.0164, 0.0075, 0.0789, 0.0131, 0.0267, 0.0147, 0.0112, 0.0585, 0.0121,\n",
      "        0.0650, 0.0058, 0.0208, 0.0078, 0.0133, 0.0203, 0.1204, 0.0469, 0.0126])\n",
      "Correct label: 13 (m)\n",
      "probability of the correct label with current weights: 0.026691533625125885\n",
      "log likelihood: -3.623408794403076\n",
      "negative log likelihood: 3.623408794403076\n",
      "----------\n",
      "example: ma (indexes 13, 1)\n",
      "Input: 13 (m)\n",
      "Output probabilities: tensor([0.0312, 0.0737, 0.0484, 0.0333, 0.0674, 0.0200, 0.0263, 0.0249, 0.1226,\n",
      "        0.0164, 0.0075, 0.0789, 0.0131, 0.0267, 0.0147, 0.0112, 0.0585, 0.0121,\n",
      "        0.0650, 0.0058, 0.0208, 0.0078, 0.0133, 0.0203, 0.1204, 0.0469, 0.0126])\n",
      "Correct label: 1 (a)\n",
      "probability of the correct label with current weights: 0.07367686182260513\n",
      "log likelihood: -2.6080665588378906\n",
      "negative log likelihood: 2.6080665588378906\n",
      "----------\n",
      "example: a. (indexes 1, 0)\n",
      "Input: 1 (a)\n",
      "Output probabilities: tensor([0.0150, 0.0086, 0.0396, 0.0100, 0.0606, 0.0308, 0.1084, 0.0131, 0.0125,\n",
      "        0.0048, 0.1024, 0.0086, 0.0988, 0.0112, 0.0232, 0.0207, 0.0408, 0.0078,\n",
      "        0.0899, 0.0531, 0.0463, 0.0309, 0.0051, 0.0329, 0.0654, 0.0503, 0.0091])\n",
      "Correct label: 0 (.)\n",
      "probability of the correct label with current weights: 0.014977526850998402\n",
      "log likelihood: -4.201204299926758\n",
      "negative log likelihood: 4.201204299926758\n",
      "====================\n",
      "average negative log likelihood (loss): 3.7693049907684326\n"
     ]
    }
   ],
   "source": [
    "nlls = torch.zeros(probs.shape[0])\n",
    "for i in range(nlls.shape[0]):\n",
    "    x = xs[i].item()\n",
    "    y = ys[i].item()\n",
    "    print(\"-\" * 10)\n",
    "    print(f\"example: {itos[x]}{itos[y]} (indexes {x}, {y})\")\n",
    "    print(f\"Input: {x} ({itos[x]})\")\n",
    "    print(f\"Output probabilities: {probs[i]}\")\n",
    "    print(f\"Correct label: {y} ({itos[y]})\")\n",
    "    p = probs[i, y]\n",
    "    print(f\"probability of the correct label with current weights: {p.item()}\")\n",
    "    logp = torch.log(p)\n",
    "    print(f\"log likelihood: {logp.item()}\")\n",
    "    nll = -logp\n",
    "    print(f\"negative log likelihood: {nll.item()}\")\n",
    "    nlls[i] = nll\n",
    "\n",
    "print(\"=\" * 20)\n",
    "print(f\"average negative log likelihood (loss): {nlls.mean().item()}\")"
   ],
   "metadata": {
    "collapsed": false,
    "ExecuteTime": {
     "end_time": "2024-03-27T13:31:35.451099Z",
     "start_time": "2024-03-27T13:31:35.444688Z"
    }
   },
   "id": "8db4f5aed897df5",
   "execution_count": 46
  },
  {
   "cell_type": "markdown",
   "source": [
    "# Optimization with backprop"
   ],
   "metadata": {
    "collapsed": false
   },
   "id": "4b5ef25ddf87921a"
  },
  {
   "cell_type": "code",
   "outputs": [],
   "source": [
    "# create dataset\n",
    "special_token = \".\"\n",
    "bag = dict()\n",
    "words = open('names.txt', 'r').read().splitlines()\n",
    "chars = sorted(list(set(''.join(words))))\n",
    "stoi = dict((s, i + 1) for i, s in enumerate(chars))\n",
    "stoi[special_token] = 0\n",
    "itos = dict((i, s) for s, i in stoi.items())\n",
    "\n",
    "xs, ys = [], []\n",
    "\n",
    "for w in words:\n",
    "    chs = [special_token] + list(w) + [special_token] # adding start and end tokens\n",
    "    for ch1, ch2 in zip(chs, chs[1:]):\n",
    "        ix1 = stoi[ch1]\n",
    "        ix2 = stoi[ch2]\n",
    "        xs.append(ix1)\n",
    "        ys.append(ix2)\n",
    "\n",
    "xs = torch.tensor(xs)\n",
    "ys = torch.tensor(ys)\n",
    "num_examples = xs.nelement()\n",
    "\n",
    "# init the \"network\"\n",
    "g = torch.Generator().manual_seed(2147483647)\n",
    "W = torch.randn((len(stoi), len(stoi)), generator=g, requires_grad=True)"
   ],
   "metadata": {
    "collapsed": false,
    "ExecuteTime": {
     "end_time": "2024-03-27T13:48:16.791501Z",
     "start_time": "2024-03-27T13:48:16.700740Z"
    }
   },
   "id": "99ff37872690b74e",
   "execution_count": 79
  },
  {
   "cell_type": "code",
   "outputs": [
    {
     "name": "stdout",
     "output_type": "stream",
     "text": [
      "Loss: 2.4834\n",
      "Loss: 2.4834\n",
      "Loss: 2.4833\n",
      "Loss: 2.4833\n",
      "Loss: 2.4833\n",
      "Loss: 2.4832\n",
      "Loss: 2.4832\n",
      "Loss: 2.4832\n",
      "Loss: 2.4832\n",
      "Loss: 2.4831\n",
      "Loss: 2.4831\n",
      "Loss: 2.4831\n",
      "Loss: 2.4831\n",
      "Loss: 2.4830\n",
      "Loss: 2.4830\n",
      "Loss: 2.4830\n",
      "Loss: 2.4830\n",
      "Loss: 2.4829\n",
      "Loss: 2.4829\n",
      "Loss: 2.4829\n",
      "Loss: 2.4829\n",
      "Loss: 2.4828\n",
      "Loss: 2.4828\n",
      "Loss: 2.4828\n",
      "Loss: 2.4828\n",
      "Loss: 2.4828\n",
      "Loss: 2.4827\n",
      "Loss: 2.4827\n",
      "Loss: 2.4827\n",
      "Loss: 2.4827\n",
      "Loss: 2.4827\n",
      "Loss: 2.4827\n",
      "Loss: 2.4826\n",
      "Loss: 2.4826\n",
      "Loss: 2.4826\n",
      "Loss: 2.4826\n",
      "Loss: 2.4826\n",
      "Loss: 2.4826\n",
      "Loss: 2.4825\n",
      "Loss: 2.4825\n",
      "Loss: 2.4825\n",
      "Loss: 2.4825\n",
      "Loss: 2.4825\n",
      "Loss: 2.4825\n",
      "Loss: 2.4824\n",
      "Loss: 2.4824\n",
      "Loss: 2.4824\n",
      "Loss: 2.4824\n",
      "Loss: 2.4824\n",
      "Loss: 2.4824\n",
      "Loss: 2.4824\n",
      "Loss: 2.4824\n",
      "Loss: 2.4823\n",
      "Loss: 2.4823\n",
      "Loss: 2.4823\n",
      "Loss: 2.4823\n",
      "Loss: 2.4823\n",
      "Loss: 2.4823\n",
      "Loss: 2.4823\n",
      "Loss: 2.4822\n",
      "Loss: 2.4822\n",
      "Loss: 2.4822\n",
      "Loss: 2.4822\n",
      "Loss: 2.4822\n",
      "Loss: 2.4822\n",
      "Loss: 2.4822\n",
      "Loss: 2.4822\n",
      "Loss: 2.4822\n",
      "Loss: 2.4821\n",
      "Loss: 2.4821\n",
      "Loss: 2.4821\n",
      "Loss: 2.4821\n",
      "Loss: 2.4821\n",
      "Loss: 2.4821\n",
      "Loss: 2.4821\n",
      "Loss: 2.4821\n",
      "Loss: 2.4821\n",
      "Loss: 2.4820\n",
      "Loss: 2.4820\n",
      "Loss: 2.4820\n",
      "Loss: 2.4820\n",
      "Loss: 2.4820\n",
      "Loss: 2.4820\n",
      "Loss: 2.4820\n",
      "Loss: 2.4820\n",
      "Loss: 2.4820\n",
      "Loss: 2.4820\n",
      "Loss: 2.4819\n",
      "Loss: 2.4819\n",
      "Loss: 2.4819\n",
      "Loss: 2.4819\n",
      "Loss: 2.4819\n",
      "Loss: 2.4819\n",
      "Loss: 2.4819\n",
      "Loss: 2.4819\n",
      "Loss: 2.4819\n",
      "Loss: 2.4819\n",
      "Loss: 2.4819\n",
      "Loss: 2.4819\n",
      "Loss: 2.4818\n"
     ]
    }
   ],
   "source": [
    "alpha = 50\n",
    "regularization_param = 0.01\n",
    "# gradient descent\n",
    "for epoch in range(100):\n",
    "    # forward pass\n",
    "    xenc = F.one_hot(xs, num_classes=len(stoi)).float()\n",
    "    logits = xenc @ W\n",
    "    # softmax\n",
    "    counts = logits.exp()\n",
    "    probs = counts / counts.sum(dim=1, keepdims=True)\n",
    "    loss = -probs[torch.arange(num_examples), ys].log().mean() + regularization_param * (W ** 2).mean()\n",
    "    print(f\"Loss: {loss.item():.4f}\")\n",
    "    # backward pass\n",
    "    W.grad = None # set grad to zero\n",
    "    loss.backward()\n",
    "    \n",
    "    # update parameters\n",
    "    W.data += -alpha * W.grad"
   ],
   "metadata": {
    "collapsed": false,
    "ExecuteTime": {
     "end_time": "2024-03-27T13:59:47.646040Z",
     "start_time": "2024-03-27T13:59:44.080169Z"
    }
   },
   "id": "c6e11bbdf84f28c5",
   "execution_count": 85
  },
  {
   "cell_type": "code",
   "outputs": [
    {
     "name": "stdout",
     "output_type": "stream",
     "text": [
      "junide\n",
      "janasah\n",
      "prelay\n",
      "a\n",
      "nn\n"
     ]
    }
   ],
   "source": [
    "# sample\n",
    "g = torch.Generator().manual_seed(2147483647)\n",
    "\n",
    "for i in range(5):\n",
    "    out = []\n",
    "    ix = 0\n",
    "    while True:\n",
    "        xenc = F.one_hot(torch.tensor([ix]), num_classes=len(stoi)).float()\n",
    "        logits = xenc @ W\n",
    "        # softmax\n",
    "        counts = logits.exp()\n",
    "        probs = counts / counts.sum(dim=1, keepdims=True)\n",
    "        ix = torch.multinomial(probs, num_samples=1, replacement=True, generator=g).item()\n",
    "        if ix == 0:\n",
    "            break\n",
    "        out.append(itos[ix])\n",
    "    print(''.join(out))"
   ],
   "metadata": {
    "collapsed": false,
    "ExecuteTime": {
     "end_time": "2024-03-27T14:05:18.692930Z",
     "start_time": "2024-03-27T14:05:18.687293Z"
    }
   },
   "id": "8f048037c5a4994",
   "execution_count": 89
  },
  {
   "cell_type": "code",
   "outputs": [],
   "source": [],
   "metadata": {
    "collapsed": false
   },
   "id": "113d7b684c9a93ba"
  }
 ],
 "metadata": {
  "kernelspec": {
   "display_name": "Python 3",
   "language": "python",
   "name": "python3"
  },
  "language_info": {
   "codemirror_mode": {
    "name": "ipython",
    "version": 2
   },
   "file_extension": ".py",
   "mimetype": "text/x-python",
   "name": "python",
   "nbconvert_exporter": "python",
   "pygments_lexer": "ipython2",
   "version": "2.7.6"
  }
 },
 "nbformat": 4,
 "nbformat_minor": 5
}
